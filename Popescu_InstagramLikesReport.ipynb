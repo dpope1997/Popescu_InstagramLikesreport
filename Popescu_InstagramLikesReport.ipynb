{
 "cells": [
  {
   "cell_type": "markdown",
   "id": "needed-wales",
   "metadata": {},
   "source": [
    "# 1. Overview\n",
    "\n",
    "Instagram Likes report by Daniel Popescu.\n",
    "\n",
    "#### 1.1 The purpose of this analysis report is to show the ammount of likes per account. How many likes per account?"
   ]
  },
  {
   "cell_type": "markdown",
   "id": "binding-maria",
   "metadata": {},
   "source": [
    "# 2. Data\n",
    "\n",
    "#### 2.1 The data for this report comes from David Silva's instagram account.\n",
    "\n",
    "#### 2.2 We start by downloading the data and importing it into the jupyter file.This data was accessed through my professor, David Silva, who uploaded it to blackboard as a sample data for this project. "
   ]
  },
  {
   "cell_type": "code",
   "execution_count": 2,
   "id": "quiet-tennessee",
   "metadata": {},
   "outputs": [
    {
     "name": "stdout",
     "output_type": "stream",
     "text": [
      "3.9.1\n"
     ]
    }
   ],
   "source": [
    "from platform import python_version\n",
    "\n",
    "print(python_version())"
   ]
  },
  {
   "cell_type": "code",
   "execution_count": 4,
   "id": "varied-joint",
   "metadata": {},
   "outputs": [],
   "source": [
    "import json\n",
    "import pandas as pd\n",
    "import matplotlib.pyplot as plt\n",
    "import seaborn as sns\n",
    "import numpy as np"
   ]
  },
  {
   "cell_type": "code",
   "execution_count": 5,
   "id": "altered-sample",
   "metadata": {},
   "outputs": [],
   "source": [
    "with open(r'C:\\Users\\Daniel\\Desktop\\likes.json') as l:\n",
    "    likes = json.load(l)"
   ]
  },
  {
   "cell_type": "code",
   "execution_count": 6,
   "id": "trying-picnic",
   "metadata": {
    "scrolled": true
   },
   "outputs": [
    {
     "data": {
      "text/plain": [
       "dict"
      ]
     },
     "execution_count": 6,
     "metadata": {},
     "output_type": "execute_result"
    }
   ],
   "source": [
    "type(likes)"
   ]
  },
  {
   "cell_type": "code",
   "execution_count": 7,
   "id": "noticed-oxford",
   "metadata": {},
   "outputs": [
    {
     "data": {
      "text/plain": [
       "dict_keys(['media_likes', 'comment_likes'])"
      ]
     },
     "execution_count": 7,
     "metadata": {},
     "output_type": "execute_result"
    }
   ],
   "source": [
    "likes.keys()"
   ]
  },
  {
   "cell_type": "markdown",
   "id": "numerical-witch",
   "metadata": {},
   "source": [
    "### The JSON files was converted to a DataFrame and summarized by counting each like per account.\n",
    "\n",
    "#### Below we use Panda to convert the data in \"likes.json\" to a DataFrame table and we print how many media likes and comment likes there are for the users to see."
   ]
  },
  {
   "cell_type": "code",
   "execution_count": 8,
   "id": "norman-calibration",
   "metadata": {},
   "outputs": [
    {
     "name": "stdout",
     "output_type": "stream",
     "text": [
      "335\n",
      "2\n"
     ]
    }
   ],
   "source": [
    "print(len(likes['media_likes']))\n",
    "print(len(likes['comment_likes']))"
   ]
  },
  {
   "cell_type": "markdown",
   "id": "reflected-tiffany",
   "metadata": {},
   "source": [
    "Based on the following tables, we can tell that almost every account has liked posts, but not every account has liked comments. \n",
    "The only two accounts to like comments are \n",
    "\n",
    "#### klorenza___ \n",
    "\n",
    "and \n",
    "\n",
    "#### odonnellnic\n",
    "\n",
    "\n",
    "which is shown in the second table below."
   ]
  },
  {
   "cell_type": "markdown",
   "id": "charitable-float",
   "metadata": {},
   "source": [
    "#### Accounts that have liked posts and how many they've liked."
   ]
  },
  {
   "cell_type": "code",
   "execution_count": 16,
   "id": "threaded-reverse",
   "metadata": {},
   "outputs": [
    {
     "data": {
      "text/html": [
       "<div>\n",
       "<style scoped>\n",
       "    .dataframe tbody tr th:only-of-type {\n",
       "        vertical-align: middle;\n",
       "    }\n",
       "\n",
       "    .dataframe tbody tr th {\n",
       "        vertical-align: top;\n",
       "    }\n",
       "\n",
       "    .dataframe thead th {\n",
       "        text-align: right;\n",
       "    }\n",
       "</style>\n",
       "<table border=\"1\" class=\"dataframe\">\n",
       "  <thead>\n",
       "    <tr style=\"text-align: right;\">\n",
       "      <th></th>\n",
       "      <th>timestamp</th>\n",
       "      <th>account</th>\n",
       "    </tr>\n",
       "  </thead>\n",
       "  <tbody>\n",
       "    <tr>\n",
       "      <th>0</th>\n",
       "      <td>2020-07-11T04:39:28+00:00</td>\n",
       "      <td>ball_doesnt_lie</td>\n",
       "    </tr>\n",
       "    <tr>\n",
       "      <th>1</th>\n",
       "      <td>2020-07-11T04:39:05+00:00</td>\n",
       "      <td>ball_doesnt_lie</td>\n",
       "    </tr>\n",
       "    <tr>\n",
       "      <th>2</th>\n",
       "      <td>2020-07-05T17:25:44+00:00</td>\n",
       "      <td>ali_saurusrex</td>\n",
       "    </tr>\n",
       "    <tr>\n",
       "      <th>3</th>\n",
       "      <td>2020-07-03T03:40:02+00:00</td>\n",
       "      <td>cacandassociates</td>\n",
       "    </tr>\n",
       "    <tr>\n",
       "      <th>4</th>\n",
       "      <td>2020-06-25T17:41:50+00:00</td>\n",
       "      <td>cacandassociates</td>\n",
       "    </tr>\n",
       "  </tbody>\n",
       "</table>\n",
       "</div>"
      ],
      "text/plain": [
       "                   timestamp           account\n",
       "0  2020-07-11T04:39:28+00:00   ball_doesnt_lie\n",
       "1  2020-07-11T04:39:05+00:00   ball_doesnt_lie\n",
       "2  2020-07-05T17:25:44+00:00     ali_saurusrex\n",
       "3  2020-07-03T03:40:02+00:00  cacandassociates\n",
       "4  2020-06-25T17:41:50+00:00  cacandassociates"
      ]
     },
     "execution_count": 16,
     "metadata": {},
     "output_type": "execute_result"
    }
   ],
   "source": [
    "likes_df = pd.DataFrame(likes['media_likes'], columns = ['timestamp', 'account'])\n",
    "likes_df.head()"
   ]
  },
  {
   "cell_type": "code",
   "execution_count": 18,
   "id": "pacific-fault",
   "metadata": {},
   "outputs": [
    {
     "data": {
      "text/html": [
       "<div>\n",
       "<style scoped>\n",
       "    .dataframe tbody tr th:only-of-type {\n",
       "        vertical-align: middle;\n",
       "    }\n",
       "\n",
       "    .dataframe tbody tr th {\n",
       "        vertical-align: top;\n",
       "    }\n",
       "\n",
       "    .dataframe thead th {\n",
       "        text-align: right;\n",
       "    }\n",
       "</style>\n",
       "<table border=\"1\" class=\"dataframe\">\n",
       "  <thead>\n",
       "    <tr style=\"text-align: right;\">\n",
       "      <th></th>\n",
       "      <th>timestamp</th>\n",
       "    </tr>\n",
       "    <tr>\n",
       "      <th>account</th>\n",
       "      <th></th>\n",
       "    </tr>\n",
       "  </thead>\n",
       "  <tbody>\n",
       "    <tr>\n",
       "      <th>a_matt_silva</th>\n",
       "      <td>18</td>\n",
       "    </tr>\n",
       "    <tr>\n",
       "      <th>ali_saurusrex</th>\n",
       "      <td>68</td>\n",
       "    </tr>\n",
       "    <tr>\n",
       "      <th>andrewtcurry</th>\n",
       "      <td>1</td>\n",
       "    </tr>\n",
       "    <tr>\n",
       "      <th>aroseroar16</th>\n",
       "      <td>29</td>\n",
       "    </tr>\n",
       "    <tr>\n",
       "      <th>athenalemon</th>\n",
       "      <td>1</td>\n",
       "    </tr>\n",
       "    <tr>\n",
       "      <th>ball_doesnt_lie</th>\n",
       "      <td>2</td>\n",
       "    </tr>\n",
       "    <tr>\n",
       "      <th>bianchi_usa</th>\n",
       "      <td>2</td>\n",
       "    </tr>\n",
       "    <tr>\n",
       "      <th>bsnder</th>\n",
       "      <td>5</td>\n",
       "    </tr>\n",
       "    <tr>\n",
       "      <th>cacandassociates</th>\n",
       "      <td>15</td>\n",
       "    </tr>\n",
       "    <tr>\n",
       "      <th>camecol501</th>\n",
       "      <td>2</td>\n",
       "    </tr>\n",
       "  </tbody>\n",
       "</table>\n",
       "</div>"
      ],
      "text/plain": [
       "                  timestamp\n",
       "account                    \n",
       "a_matt_silva             18\n",
       "ali_saurusrex            68\n",
       "andrewtcurry              1\n",
       "aroseroar16              29\n",
       "athenalemon               1\n",
       "ball_doesnt_lie           2\n",
       "bianchi_usa               2\n",
       "bsnder                    5\n",
       "cacandassociates         15\n",
       "camecol501                2"
      ]
     },
     "execution_count": 18,
     "metadata": {},
     "output_type": "execute_result"
    }
   ],
   "source": [
    "count_dlikes = dlikes_df.groupby('account').count()\n",
    "count_dlikes[:10]"
   ]
  },
  {
   "cell_type": "markdown",
   "id": "waiting-police",
   "metadata": {},
   "source": [
    "#### Accounts that have liked comments."
   ]
  },
  {
   "cell_type": "code",
   "execution_count": 17,
   "id": "significant-assistant",
   "metadata": {},
   "outputs": [
    {
     "data": {
      "text/html": [
       "<div>\n",
       "<style scoped>\n",
       "    .dataframe tbody tr th:only-of-type {\n",
       "        vertical-align: middle;\n",
       "    }\n",
       "\n",
       "    .dataframe tbody tr th {\n",
       "        vertical-align: top;\n",
       "    }\n",
       "\n",
       "    .dataframe thead th {\n",
       "        text-align: right;\n",
       "    }\n",
       "</style>\n",
       "<table border=\"1\" class=\"dataframe\">\n",
       "  <thead>\n",
       "    <tr style=\"text-align: right;\">\n",
       "      <th></th>\n",
       "      <th>timestamp</th>\n",
       "      <th>account</th>\n",
       "    </tr>\n",
       "  </thead>\n",
       "  <tbody>\n",
       "    <tr>\n",
       "      <th>0</th>\n",
       "      <td>2020-02-16T05:34:29+00:00</td>\n",
       "      <td>klorenza___</td>\n",
       "    </tr>\n",
       "    <tr>\n",
       "      <th>1</th>\n",
       "      <td>2019-06-08T06:41:59+00:00</td>\n",
       "      <td>odonnellnic</td>\n",
       "    </tr>\n",
       "  </tbody>\n",
       "</table>\n",
       "</div>"
      ],
      "text/plain": [
       "                   timestamp      account\n",
       "0  2020-02-16T05:34:29+00:00  klorenza___\n",
       "1  2019-06-08T06:41:59+00:00  odonnellnic"
      ]
     },
     "execution_count": 17,
     "metadata": {},
     "output_type": "execute_result"
    }
   ],
   "source": [
    "likes_df = pd.DataFrame(likes['comment_likes'], columns = ['timestamp', 'account'])\n",
    "likes_df.head()"
   ]
  },
  {
   "cell_type": "markdown",
   "id": "worthy-violation",
   "metadata": {},
   "source": [
    "## The following table uses groupby() and count() DataFrame methods in order to summarize the number of likes by account. \n",
    "\n",
    "This shows how many times an account likes content from another account."
   ]
  },
  {
   "cell_type": "code",
   "execution_count": 117,
   "id": "electoral-kinase",
   "metadata": {},
   "outputs": [
    {
     "data": {
      "text/html": [
       "<div>\n",
       "<style scoped>\n",
       "    .dataframe tbody tr th:only-of-type {\n",
       "        vertical-align: middle;\n",
       "    }\n",
       "\n",
       "    .dataframe tbody tr th {\n",
       "        vertical-align: top;\n",
       "    }\n",
       "\n",
       "    .dataframe thead th {\n",
       "        text-align: right;\n",
       "    }\n",
       "</style>\n",
       "<table border=\"1\" class=\"dataframe\">\n",
       "  <thead>\n",
       "    <tr style=\"text-align: right;\">\n",
       "      <th></th>\n",
       "      <th>timestamp</th>\n",
       "    </tr>\n",
       "    <tr>\n",
       "      <th>account</th>\n",
       "      <th></th>\n",
       "    </tr>\n",
       "  </thead>\n",
       "  <tbody>\n",
       "    <tr>\n",
       "      <th>ali_saurusrex</th>\n",
       "      <td>68</td>\n",
       "    </tr>\n",
       "    <tr>\n",
       "      <th>aroseroar16</th>\n",
       "      <td>29</td>\n",
       "    </tr>\n",
       "    <tr>\n",
       "      <th>orangekoala2</th>\n",
       "      <td>27</td>\n",
       "    </tr>\n",
       "    <tr>\n",
       "      <th>a_matt_silva</th>\n",
       "      <td>18</td>\n",
       "    </tr>\n",
       "    <tr>\n",
       "      <th>reams_esq</th>\n",
       "      <td>16</td>\n",
       "    </tr>\n",
       "    <tr>\n",
       "      <th>emmyr0o</th>\n",
       "      <td>16</td>\n",
       "    </tr>\n",
       "    <tr>\n",
       "      <th>cacandassociates</th>\n",
       "      <td>15</td>\n",
       "    </tr>\n",
       "    <tr>\n",
       "      <th>danneabreanne</th>\n",
       "      <td>13</td>\n",
       "    </tr>\n",
       "    <tr>\n",
       "      <th>colin_storm</th>\n",
       "      <td>11</td>\n",
       "    </tr>\n",
       "    <tr>\n",
       "      <th>inalull</th>\n",
       "      <td>10</td>\n",
       "    </tr>\n",
       "    <tr>\n",
       "      <th>drchadlarson</th>\n",
       "      <td>10</td>\n",
       "    </tr>\n",
       "    <tr>\n",
       "      <th>meredith.wang</th>\n",
       "      <td>9</td>\n",
       "    </tr>\n",
       "    <tr>\n",
       "      <th>jackie.cc</th>\n",
       "      <td>9</td>\n",
       "    </tr>\n",
       "    <tr>\n",
       "      <th>cbarker13</th>\n",
       "      <td>9</td>\n",
       "    </tr>\n",
       "    <tr>\n",
       "      <th>mtb_crohnert92</th>\n",
       "      <td>5</td>\n",
       "    </tr>\n",
       "    <tr>\n",
       "      <th>bsnder</th>\n",
       "      <td>5</td>\n",
       "    </tr>\n",
       "    <tr>\n",
       "      <th>favoritedekruyfonthecitadel</th>\n",
       "      <td>4</td>\n",
       "    </tr>\n",
       "    <tr>\n",
       "      <th>jennjohnn</th>\n",
       "      <td>3</td>\n",
       "    </tr>\n",
       "    <tr>\n",
       "      <th>miles_sari</th>\n",
       "      <td>3</td>\n",
       "    </tr>\n",
       "    <tr>\n",
       "      <th>leleebabe</th>\n",
       "      <td>3</td>\n",
       "    </tr>\n",
       "    <tr>\n",
       "      <th>silva_c097</th>\n",
       "      <td>3</td>\n",
       "    </tr>\n",
       "    <tr>\n",
       "      <th>priscillaannnnn</th>\n",
       "      <td>3</td>\n",
       "    </tr>\n",
       "    <tr>\n",
       "      <th>bianchi_usa</th>\n",
       "      <td>2</td>\n",
       "    </tr>\n",
       "    <tr>\n",
       "      <th>lewkmiller</th>\n",
       "      <td>2</td>\n",
       "    </tr>\n",
       "    <tr>\n",
       "      <th>poorlydrawnlines</th>\n",
       "      <td>2</td>\n",
       "    </tr>\n",
       "    <tr>\n",
       "      <th>samrosehill</th>\n",
       "      <td>2</td>\n",
       "    </tr>\n",
       "    <tr>\n",
       "      <th>mycaninelife</th>\n",
       "      <td>2</td>\n",
       "    </tr>\n",
       "    <tr>\n",
       "      <th>camecol501</th>\n",
       "      <td>2</td>\n",
       "    </tr>\n",
       "    <tr>\n",
       "      <th>jessicaajeean</th>\n",
       "      <td>2</td>\n",
       "    </tr>\n",
       "    <tr>\n",
       "      <th>samuel.rhodes</th>\n",
       "      <td>2</td>\n",
       "    </tr>\n",
       "    <tr>\n",
       "      <th>tslemmer</th>\n",
       "      <td>2</td>\n",
       "    </tr>\n",
       "    <tr>\n",
       "      <th>ball_doesnt_lie</th>\n",
       "      <td>2</td>\n",
       "    </tr>\n",
       "    <tr>\n",
       "      <th>kateblarson</th>\n",
       "      <td>2</td>\n",
       "    </tr>\n",
       "    <tr>\n",
       "      <th>theradavist</th>\n",
       "      <td>1</td>\n",
       "    </tr>\n",
       "    <tr>\n",
       "      <th>thesignpad</th>\n",
       "      <td>1</td>\n",
       "    </tr>\n",
       "    <tr>\n",
       "      <th>transitionbikes</th>\n",
       "      <td>1</td>\n",
       "    </tr>\n",
       "    <tr>\n",
       "      <th>shaunacoxsey</th>\n",
       "      <td>1</td>\n",
       "    </tr>\n",
       "    <tr>\n",
       "      <th>sp4zie</th>\n",
       "      <td>1</td>\n",
       "    </tr>\n",
       "    <tr>\n",
       "      <th>rskinner90</th>\n",
       "      <td>1</td>\n",
       "    </tr>\n",
       "    <tr>\n",
       "      <th>vitalmtb</th>\n",
       "      <td>1</td>\n",
       "    </tr>\n",
       "    <tr>\n",
       "      <th>rockymountainbicycles</th>\n",
       "      <td>1</td>\n",
       "    </tr>\n",
       "    <tr>\n",
       "      <th>slemdawgmillionaire</th>\n",
       "      <td>1</td>\n",
       "    </tr>\n",
       "    <tr>\n",
       "      <th>kellyc00k</th>\n",
       "      <td>1</td>\n",
       "    </tr>\n",
       "    <tr>\n",
       "      <th>phd_comics</th>\n",
       "      <td>1</td>\n",
       "    </tr>\n",
       "    <tr>\n",
       "      <th>odonnellnic</th>\n",
       "      <td>1</td>\n",
       "    </tr>\n",
       "    <tr>\n",
       "      <th>natgeo</th>\n",
       "      <td>1</td>\n",
       "    </tr>\n",
       "    <tr>\n",
       "      <th>melissarohwer</th>\n",
       "      <td>1</td>\n",
       "    </tr>\n",
       "    <tr>\n",
       "      <th>jsevier</th>\n",
       "      <td>1</td>\n",
       "    </tr>\n",
       "    <tr>\n",
       "      <th>johnnydhampton</th>\n",
       "      <td>1</td>\n",
       "    </tr>\n",
       "    <tr>\n",
       "      <th>jhushlordofthesith</th>\n",
       "      <td>1</td>\n",
       "    </tr>\n",
       "    <tr>\n",
       "      <th>ibiscycles</th>\n",
       "      <td>1</td>\n",
       "    </tr>\n",
       "    <tr>\n",
       "      <th>holly.berry_22</th>\n",
       "      <td>1</td>\n",
       "    </tr>\n",
       "    <tr>\n",
       "      <th>catsandkilos</th>\n",
       "      <td>1</td>\n",
       "    </tr>\n",
       "    <tr>\n",
       "      <th>carswithoutlimits</th>\n",
       "      <td>1</td>\n",
       "    </tr>\n",
       "    <tr>\n",
       "      <th>athenalemon</th>\n",
       "      <td>1</td>\n",
       "    </tr>\n",
       "    <tr>\n",
       "      <th>andrewtcurry</th>\n",
       "      <td>1</td>\n",
       "    </tr>\n",
       "    <tr>\n",
       "      <th>wrenchscienceusa</th>\n",
       "      <td>1</td>\n",
       "    </tr>\n",
       "  </tbody>\n",
       "</table>\n",
       "</div>"
      ],
      "text/plain": [
       "                             timestamp\n",
       "account                               \n",
       "ali_saurusrex                       68\n",
       "aroseroar16                         29\n",
       "orangekoala2                        27\n",
       "a_matt_silva                        18\n",
       "reams_esq                           16\n",
       "emmyr0o                             16\n",
       "cacandassociates                    15\n",
       "danneabreanne                       13\n",
       "colin_storm                         11\n",
       "inalull                             10\n",
       "drchadlarson                        10\n",
       "meredith.wang                        9\n",
       "jackie.cc                            9\n",
       "cbarker13                            9\n",
       "mtb_crohnert92                       5\n",
       "bsnder                               5\n",
       "favoritedekruyfonthecitadel          4\n",
       "jennjohnn                            3\n",
       "miles_sari                           3\n",
       "leleebabe                            3\n",
       "silva_c097                           3\n",
       "priscillaannnnn                      3\n",
       "bianchi_usa                          2\n",
       "lewkmiller                           2\n",
       "poorlydrawnlines                     2\n",
       "samrosehill                          2\n",
       "mycaninelife                         2\n",
       "camecol501                           2\n",
       "jessicaajeean                        2\n",
       "samuel.rhodes                        2\n",
       "tslemmer                             2\n",
       "ball_doesnt_lie                      2\n",
       "kateblarson                          2\n",
       "theradavist                          1\n",
       "thesignpad                           1\n",
       "transitionbikes                      1\n",
       "shaunacoxsey                         1\n",
       "sp4zie                               1\n",
       "rskinner90                           1\n",
       "vitalmtb                             1\n",
       "rockymountainbicycles                1\n",
       "slemdawgmillionaire                  1\n",
       "kellyc00k                            1\n",
       "phd_comics                           1\n",
       "odonnellnic                          1\n",
       "natgeo                               1\n",
       "melissarohwer                        1\n",
       "jsevier                              1\n",
       "johnnydhampton                       1\n",
       "jhushlordofthesith                   1\n",
       "ibiscycles                           1\n",
       "holly.berry_22                       1\n",
       "catsandkilos                         1\n",
       "carswithoutlimits                    1\n",
       "athenalemon                          1\n",
       "andrewtcurry                         1\n",
       "wrenchscienceusa                     1"
      ]
     },
     "execution_count": 117,
     "metadata": {},
     "output_type": "execute_result"
    }
   ],
   "source": [
    "group_df = likes_df.groupby('account').count().sort_values('timestamp', ascending = False)\n",
    "group_df"
   ]
  },
  {
   "cell_type": "markdown",
   "id": "sonic-lobby",
   "metadata": {},
   "source": [
    "### BAR GRAPH.\n",
    "\n",
    "This next table shows the same data as above, but it is put in a bar graph instead in order to be more user friendly and visualize the actual amount of likes going on. \n",
    "\n",
    "The Y axis shows the NUMBER OF LIKES while the X axis shows the ACCOUNTS."
   ]
  },
  {
   "cell_type": "code",
   "execution_count": 110,
   "id": "stupid-skiing",
   "metadata": {},
   "outputs": [
    {
     "data": {
      "image/png": "[encoded data removed]",
      "text/plain": [
       "<Figure size 800x800 with 1 Axes>"
      ]
     },
     "metadata": {},
     "output_type": "display_data"
    }
   ],
   "source": [
    "labels = group_df['timestamp'].keys()\n",
    "vals = group_df['timestamp']\n",
    "width = .75\n",
    "\n",
    "fig, ax = plt.subplots(figsize=(10,10), dpi = 80, facecolor = 'w', edgecolor = 'k')\n",
    "ax.bar(labels,vals)\n",
    "ax.set_ylabel('Number of Likes')\n",
    "plt.xticks(rotation=90, fontsize = 'small')\n",
    "plt.show()"
   ]
  },
  {
   "cell_type": "markdown",
   "id": "fallen-collect",
   "metadata": {},
   "source": [
    "### PIE PLOT.\n",
    "\n",
    "A second way of visualizing how many times an account has liked posts compared to the others is by putting all of them into a pie plot.\n",
    "\n",
    "This next plot, just like the previous one, shows how much more an account has liked posts than the others."
   ]
  },
  {
   "cell_type": "code",
   "execution_count": 111,
   "id": "clear-damages",
   "metadata": {},
   "outputs": [
    {
     "data": {
      "image/png": "[encoded data removed]",
      "text/plain": [
       "<Figure size 432x288 with 1 Axes>"
      ]
     },
     "metadata": {},
     "output_type": "display_data"
    }
   ],
   "source": [
    "fig2, ax2 = plt.subplots()\n",
    "ax2.pie(vals, labels = labels)\n",
    "ax2.axis('equal')\n",
    "plt.show()"
   ]
  },
  {
   "cell_type": "markdown",
   "id": "biblical-disability",
   "metadata": {},
   "source": [
    "From the analyzing the data, there is one account that rises above the rest in amount of likes.\n",
    "\n",
    "That account is \n",
    "\n",
    "### ali_saurusrex"
   ]
  },
  {
   "cell_type": "markdown",
   "id": "every-relevance",
   "metadata": {},
   "source": [
    "# 3. CONCLUSION\n",
    "\n",
    "#### 3.1 Meaning and takeaway\n",
    "\n",
    "We can tell that the main account with the most likes is ali_saurusrex. She is obviously a very active user in this pool of accounts. This data shows that some people spend more time on social media than others which is completely normal. Everyone has different amounts of time they spend on social media.\n",
    "\n",
    "Honestly, she easily beats the competition that comes from the rest of the accounts. Even the second account after Ali, aroseroar16, is nowhere near being the first one. The second account, aroseroar16,is down around 45+ likes.\n",
    "\n",
    "The purpose of this report has been accomplished, we showed the user reading this report the amount of likes per account with data and graphs in order to make it easier to visualize.\n",
    "\n"
   ]
  }
 ],
 "metadata": {
  "kernelspec": {
   "display_name": "Python 3",
   "language": "python",
   "name": "python3"
  },
  "language_info": {
   "codemirror_mode": {
    "name": "ipython",
    "version": 3
   },
   "file_extension": ".py",
   "mimetype": "text/x-python",
   "name": "python",
   "nbconvert_exporter": "python",
   "pygments_lexer": "ipython3",
   "version": "3.9.1"
  }
 },
 "nbformat": 4,
 "nbformat_minor": 5
}
